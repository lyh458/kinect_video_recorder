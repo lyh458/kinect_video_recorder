{
 "metadata": {
  "name": ""
 },
 "nbformat": 3,
 "nbformat_minor": 0,
 "worksheets": [
  {
   "cells": [
    {
     "cell_type": "code",
     "collapsed": false,
     "input": [
      "import rospy"
     ],
     "language": "python",
     "metadata": {},
     "outputs": []
    },
    {
     "cell_type": "code",
     "collapsed": false,
     "input": [
      "from numpy import array, uint8, fromstring"
     ],
     "language": "python",
     "metadata": {},
     "outputs": []
    },
    {
     "cell_type": "code",
     "collapsed": false,
     "input": [
      "from struct import unpack"
     ],
     "language": "python",
     "metadata": {},
     "outputs": []
    },
    {
     "cell_type": "code",
     "collapsed": false,
     "input": [
      "from sensor_msgs.msg import Image\n",
      "from stereo_msgs.msg import DisparityImage"
     ],
     "language": "python",
     "metadata": {},
     "outputs": []
    },
    {
     "cell_type": "code",
     "collapsed": false,
     "input": [
      "import cv_bridge, cv2"
     ],
     "language": "python",
     "metadata": {},
     "outputs": []
    },
    {
     "cell_type": "code",
     "collapsed": false,
     "input": [
      "from struct import unpack"
     ],
     "language": "python",
     "metadata": {},
     "outputs": []
    },
    {
     "cell_type": "code",
     "collapsed": false,
     "input": [
      "rospy.init_node('dump_kinect_images')"
     ],
     "language": "python",
     "metadata": {},
     "outputs": []
    },
    {
     "cell_type": "code",
     "collapsed": false,
     "input": [
      "b = cv_bridge.CvBridge()"
     ],
     "language": "python",
     "metadata": {},
     "outputs": []
    },
    {
     "cell_type": "code",
     "collapsed": false,
     "input": [
      "def cb_ir(msg):\n",
      "    d_image = b.imgmsg_to_cv2(msg, \"8UC1\")\n",
      "    depth_array = array(d_image, dtype=uint8)\n",
      "    cv2.normalize(depth_array, depth_array, 0, 255, cv2.NORM_MINMAX)\n",
      "    cv2.imwrite('ir.png', depth_array)"
     ],
     "language": "python",
     "metadata": {},
     "outputs": []
    },
    {
     "cell_type": "code",
     "collapsed": false,
     "input": [
      "def cb_rgb(msg):\n",
      "    cv_img = b.imgmsg_to_cv2(msg, desired_encoding='bgr8')\n",
      "    cv2.imwrite('rgb.jpg', cv_img)"
     ],
     "language": "python",
     "metadata": {},
     "outputs": []
    },
    {
     "cell_type": "code",
     "collapsed": false,
     "input": [
      "ir_sub = rospy.Subscriber(\"/openni/depth_registered/image_raw\", Image, cb_ir)\n",
      "#ir_sub = rospy.Subscriber(\"/openni/depth_registered/disparity\", DisparityImage, cb_ir) # 32FC1"
     ],
     "language": "python",
     "metadata": {},
     "outputs": []
    },
    {
     "cell_type": "code",
     "collapsed": false,
     "input": [
      "rgb_sub = rospy.Subscriber(\"/openni/rgb/image_color\", Image, cb_rgb)"
     ],
     "language": "python",
     "metadata": {},
     "outputs": []
    },
    {
     "cell_type": "code",
     "collapsed": false,
     "input": [
      "ir_sub.unregister()\n",
      "rgb_sub.unregister()"
     ],
     "language": "python",
     "metadata": {},
     "outputs": []
    }
   ],
   "metadata": {}
  }
 ]
}